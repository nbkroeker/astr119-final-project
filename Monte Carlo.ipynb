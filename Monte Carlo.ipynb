{
 "cells": [
  {
   "cell_type": "code",
   "execution_count": null,
   "metadata": {},
   "outputs": [],
   "source": [
    "%matplotlib inline\n",
    "import numpy as np\n",
    "import matplotlib.pyplot as plt"
   ]
  },
  {
   "cell_type": "markdown",
   "metadata": {},
   "source": [
    "## Function"
   ]
  },
  {
   "cell_type": "code",
   "execution_count": null,
   "metadata": {},
   "outputs": [],
   "source": [
    "class function:\n",
    "    \n",
    "    \n",
    "    def __init__(self, a, b):                                                      #Initializes function class with Domain\n",
    "        self.x_min = a\n",
    "        self.x_max = b\n",
    "        \n",
    "        Domain = np.linspace(self.x_min, self.x_max, 1000)\n",
    "        self.y_min = self.val(self.x_min)\n",
    "        self.y_max = self.val(self.x_min)\n",
    "        for i in Domain:                                            #Finds lowest and highest y values\n",
    "            if(self.val(i) < self.y_min):\n",
    "                self.y_min = self.val(i)\n",
    "                \n",
    "            if(self.val(i) > self.y_max):\n",
    "                self.y_max = self.val(i)\n",
    "    \n",
    "    def val(self, x):                                                              #Returns value of function at a point\n",
    "        return np.cos(x)\n",
    "    \n",
    "    def plot(self):                                                                #Adds plot of function\n",
    "        Domain = np.linspace(self.x_min, self.x_max, 1000)\n",
    "        Range = self.val(Domain)\n",
    "        y0 = np.zeros(1000)\n",
    "        \n",
    "        plt.plot(Domain, Range, color = \"green\", linewidth = 3.0)       #Function Plotted\n",
    "        plt.plot(Domain, y0, color = \"black\")          #y-axis plotted"
   ]
  },
  {
   "cell_type": "markdown",
   "metadata": {},
   "source": [
    "## Monte Carlo"
   ]
  },
  {
   "cell_type": "code",
   "execution_count": null,
   "metadata": {},
   "outputs": [],
   "source": [
    "def array_build(func, size):                                                             #Builds array for random plot in MC\n",
    "    n = size                          #number of points used for MC integration\n",
    "    a1 = func.x_min                   #a1 and a2 set Domain of points made\n",
    "    a2 = func.x_max\n",
    "    b1 = func.y_min - 1               #b1 and b2 set Range of points made just bellow and above min and max\n",
    "    b2 = func.y_max + 1\n",
    "    \n",
    "    x = np.random.uniform(a1, a2, n)\n",
    "    y = np.random.uniform(b1, b2, n)\n",
    "    z = np.zeros(n)               #Third row holding color code data\n",
    "    \n",
    "    arr = np.array([x,y,z])\n",
    "    \n",
    "    return arr\n",
    "\n",
    "def calc(func, below, total):\n",
    "    r = below / total\n",
    "    a = (func.y_max - func.y_min + 2) * (func.x_max - func.x_min)\n",
    "    return r*a\n",
    "\n",
    "def MC(func):                                                                      #Performs MC integration on input __function__ object \n",
    "    num_points = 10000\n",
    "    points = array_build(func, num_points)\n",
    "    running = 0\n",
    "    normal = (func.y_min - 1) * (func.x_max-func.x_min)\n",
    "    \n",
    "    for i in range(0, num_points):\n",
    "        t = func.val(points[0, i])\n",
    "        \n",
    "        if(t > points[1, i]):\n",
    "            points[2, i] = 1.\n",
    "            running += 1\n",
    "    \n",
    "    \n",
    "    idx_0 = np.where(points[2,:]==0)\n",
    "    idx_1 = np.where(points[2,:]==1)\n",
    "\n",
    "    plt.plot(points[0, idx_0], points[1, idx_0], '.', color = \"blue\")\n",
    "    plt.plot(points[0, idx_1], points[1, idx_1], '.', color = \"red\")\n",
    "    \n",
    "    print(calc(func, running, num_points) + normal)"
   ]
  },
  {
   "cell_type": "markdown",
   "metadata": {},
   "source": [
    "## Test Range"
   ]
  },
  {
   "cell_type": "code",
   "execution_count": null,
   "metadata": {},
   "outputs": [],
   "source": [
    "f1 = function(0., 1.75)\n",
    "\n",
    "MC(f1)\n",
    "\n",
    "f1.plot()\n",
    "\n",
    "plt.show()"
   ]
  }
 ],
 "metadata": {
  "kernelspec": {
   "display_name": "Python 3",
   "language": "python",
   "name": "python3"
  },
  "language_info": {
   "codemirror_mode": {
    "name": "ipython",
    "version": 3
   },
   "file_extension": ".py",
   "mimetype": "text/x-python",
   "name": "python",
   "nbconvert_exporter": "python",
   "pygments_lexer": "ipython3",
   "version": "3.8.6"
  }
 },
 "nbformat": 4,
 "nbformat_minor": 4
}
